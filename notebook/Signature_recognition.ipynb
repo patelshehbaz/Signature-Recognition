{
  "cells": [
    {
      "cell_type": "markdown",
      "id": "5b068053",
      "metadata": {
        "id": "5b068053"
      },
      "source": [
        "#### Importing the libraries"
      ]
    },
    {
      "cell_type": "code",
      "source": [
        "from google.colab import drive\n",
        "drive.mount('/content/drive')"
      ],
      "metadata": {
        "colab": {
          "base_uri": "https://localhost:8080/"
        },
        "id": "T8Nv_sFsR5bD",
        "outputId": "df6e7512-12e6-4c4a-d148-058fb2847cda"
      },
      "id": "T8Nv_sFsR5bD",
      "execution_count": 1,
      "outputs": [
        {
          "output_type": "stream",
          "name": "stdout",
          "text": [
            "Mounted at /content/drive\n"
          ]
        }
      ]
    },
    {
      "cell_type": "code",
      "execution_count": 2,
      "id": "ac8fb6dd",
      "metadata": {
        "id": "ac8fb6dd"
      },
      "outputs": [],
      "source": [
        "import os\n",
        "import torch\n",
        "import numpy as np\n",
        "import pandas as pd\n",
        "import matplotlib.pyplot as plt\n",
        "from tqdm import tqdm\n",
        "import torch.nn.functional as F"
      ]
    },
    {
      "cell_type": "markdown",
      "id": "420c955a",
      "metadata": {
        "id": "420c955a"
      },
      "source": [
        "#### Root data directory path"
      ]
    },
    {
      "cell_type": "code",
      "execution_count": 3,
      "id": "91183ad9",
      "metadata": {
        "id": "91183ad9"
      },
      "outputs": [],
      "source": [
        "data_dir = r\"/content/drive/MyDrive/data\""
      ]
    },
    {
      "cell_type": "markdown",
      "id": "98f7f4e0",
      "metadata": {
        "id": "98f7f4e0"
      },
      "source": [
        "#### Total number of classes"
      ]
    },
    {
      "cell_type": "code",
      "execution_count": 4,
      "id": "02752339",
      "metadata": {
        "colab": {
          "base_uri": "https://localhost:8080/"
        },
        "id": "02752339",
        "outputId": "b9d7a394-c9a1-41a2-9ca4-2e55031ef222"
      },
      "outputs": [
        {
          "output_type": "execute_result",
          "data": {
            "text/plain": [
              "2"
            ]
          },
          "metadata": {},
          "execution_count": 4
        }
      ],
      "source": [
        "class_name = os.listdir(data_dir)\n",
        "len(class_name)"
      ]
    },
    {
      "cell_type": "code",
      "execution_count": 5,
      "id": "010e22d7",
      "metadata": {
        "id": "010e22d7"
      },
      "outputs": [],
      "source": [
        "from torchvision.datasets import ImageFolder\n",
        "from torch.utils.data import DataLoader\n",
        "from torchvision.utils import make_grid\n",
        "from torchvision import transforms as T,datasets"
      ]
    },
    {
      "cell_type": "markdown",
      "id": "c8252105",
      "metadata": {
        "id": "c8252105"
      },
      "source": [
        "#### Checking cuda availability"
      ]
    },
    {
      "cell_type": "code",
      "execution_count": 6,
      "id": "fc355d48",
      "metadata": {
        "colab": {
          "base_uri": "https://localhost:8080/"
        },
        "id": "fc355d48",
        "outputId": "ab08ef2d-d05a-4b3e-b937-c9c06d416053"
      },
      "outputs": [
        {
          "output_type": "stream",
          "name": "stdout",
          "text": [
            "Device:cuda\n"
          ]
        }
      ],
      "source": [
        "device = torch.device(\"cuda\" if torch.cuda.is_available() else \"cpu\")\n",
        "print(\"Device:{}\".format(device))"
      ]
    },
    {
      "cell_type": "markdown",
      "id": "6e186bf1",
      "metadata": {
        "id": "6e186bf1"
      },
      "source": [
        "#### Transforming the data"
      ]
    },
    {
      "cell_type": "code",
      "execution_count": 7,
      "id": "d9ecb412",
      "metadata": {
        "id": "d9ecb412"
      },
      "outputs": [],
      "source": [
        "data_transform = T.Compose([\n",
        "                             T.Resize(size=(224,224)), # Resizing the image to be 224 by 224\n",
        "                             T.RandomRotation(degrees=(-20,+20)), #Randomly Rotate Images by +/- 20 degrees, Image augmentation for each epoch\n",
        "                             T.ToTensor(), #converting the dimension from (height,weight,channel) to (channel,height,weight) convention of PyTorch\n",
        "                             T.Normalize([0.485,0.456,0.406],[0.229,0.224,0.225]) # Normalize by 3 means 3 StD's of the image net, 3 channels\n",
        "\n",
        "])"
      ]
    },
    {
      "cell_type": "code",
      "execution_count": 8,
      "id": "7135ae7e",
      "metadata": {
        "id": "7135ae7e"
      },
      "outputs": [],
      "source": [
        "data = datasets.ImageFolder(data_dir, transform=data_transform)\n",
        "total_count = len(data)"
      ]
    },
    {
      "cell_type": "code",
      "execution_count": 9,
      "id": "8e853dbd",
      "metadata": {
        "colab": {
          "base_uri": "https://localhost:8080/"
        },
        "id": "8e853dbd",
        "outputId": "f3a40448-0fa0-4448-dd2d-4bff9a179b5a"
      },
      "outputs": [
        {
          "output_type": "execute_result",
          "data": {
            "text/plain": [
              "2640"
            ]
          },
          "metadata": {},
          "execution_count": 9
        }
      ],
      "source": [
        "total_count"
      ]
    },
    {
      "cell_type": "code",
      "execution_count": 10,
      "id": "cfc2cee8",
      "metadata": {
        "colab": {
          "base_uri": "https://localhost:8080/"
        },
        "id": "cfc2cee8",
        "outputId": "8ea85ca0-d995-4a98-c5e9-f7e09e461b6f"
      },
      "outputs": [
        {
          "output_type": "execute_result",
          "data": {
            "text/plain": [
              "['Forged', 'Original']"
            ]
          },
          "metadata": {},
          "execution_count": 10
        }
      ],
      "source": [
        "data.classes"
      ]
    },
    {
      "cell_type": "markdown",
      "id": "6a205279",
      "metadata": {
        "id": "6a205279"
      },
      "source": [
        "#### Splitting the data"
      ]
    },
    {
      "cell_type": "code",
      "execution_count": 11,
      "id": "fed4b734",
      "metadata": {
        "id": "fed4b734"
      },
      "outputs": [],
      "source": [
        "train_count = int(0.6 * total_count)\n",
        "valid_count = int(0.3 * total_count)\n",
        "test_count = total_count - train_count - valid_count\n",
        "train_data, val_data, test_data = torch.utils.data.random_split(data, (train_count, valid_count, test_count))"
      ]
    },
    {
      "cell_type": "code",
      "execution_count": 12,
      "id": "fb049ed3",
      "metadata": {
        "colab": {
          "base_uri": "https://localhost:8080/"
        },
        "id": "fb049ed3",
        "outputId": "cba6f7fa-609a-47b0-bbd2-1abcbf5902b5"
      },
      "outputs": [
        {
          "output_type": "execute_result",
          "data": {
            "text/plain": [
              "1584"
            ]
          },
          "metadata": {},
          "execution_count": 12
        }
      ],
      "source": [
        "len(train_data.indices)"
      ]
    },
    {
      "cell_type": "code",
      "execution_count": 13,
      "id": "7ace5443",
      "metadata": {
        "colab": {
          "base_uri": "https://localhost:8080/"
        },
        "id": "7ace5443",
        "outputId": "27e3f13b-77f2-4a32-dc4a-4f6c3ff70d01"
      },
      "outputs": [
        {
          "output_type": "execute_result",
          "data": {
            "text/plain": [
              "264"
            ]
          },
          "metadata": {},
          "execution_count": 13
        }
      ],
      "source": [
        "len(test_data.indices)"
      ]
    },
    {
      "cell_type": "code",
      "execution_count": 14,
      "id": "fd2d75f9",
      "metadata": {
        "colab": {
          "base_uri": "https://localhost:8080/"
        },
        "id": "fd2d75f9",
        "outputId": "4b184611-20f9-473b-8e3b-8bb551f376c6"
      },
      "outputs": [
        {
          "output_type": "execute_result",
          "data": {
            "text/plain": [
              "792"
            ]
          },
          "metadata": {},
          "execution_count": 14
        }
      ],
      "source": [
        "len(val_data.indices)"
      ]
    },
    {
      "cell_type": "markdown",
      "id": "436d0234",
      "metadata": {
        "id": "436d0234"
      },
      "source": [
        "#### Defining some functions"
      ]
    },
    {
      "cell_type": "code",
      "execution_count": 15,
      "id": "048ac418",
      "metadata": {
        "id": "048ac418"
      },
      "outputs": [],
      "source": [
        "def show_image(image,label,get_denormalize = True):\n",
        "\n",
        "    image = image.permute(1,2,0)\n",
        "    mean = torch.FloatTensor([0.485, 0.456, 0.406])\n",
        "    std = torch.FloatTensor([0.229, 0.224, 0.225])\n",
        "\n",
        "    if get_denormalize == True:\n",
        "        image = image*std + mean\n",
        "        image = np.clip(image,0,1)\n",
        "        plt.imshow(image)\n",
        "        plt.title(label)\n",
        "\n",
        "    else:\n",
        "        plt.imshow(image)\n",
        "        plt.title(label)\n",
        "\n",
        "\n",
        "def accuracy(y_pred,y_true):\n",
        "    y_pred = F.softmax(y_pred,dim = 1)\n",
        "    top_p,top_class = y_pred.topk(1,dim = 1)\n",
        "    equals = top_class == y_true.view(*top_class.shape)\n",
        "    return torch.mean(equals.type(torch.FloatTensor))"
      ]
    },
    {
      "cell_type": "code",
      "execution_count": 16,
      "id": "316424f9",
      "metadata": {
        "colab": {
          "base_uri": "https://localhost:8080/",
          "height": 452
        },
        "id": "316424f9",
        "outputId": "eac3af9a-5b0c-4c4b-bc1d-0621a961425f"
      },
      "outputs": [
        {
          "output_type": "display_data",
          "data": {
            "text/plain": [
              "<Figure size 640x480 with 1 Axes>"
            ],
            "image/png": "[encoded data removed]"
          },
          "metadata": {}
        }
      ],
      "source": [
        "img, label = train_data[0]\n",
        "show_image(img, label)"
      ]
    },
    {
      "cell_type": "markdown",
      "id": "23b6fedd",
      "metadata": {
        "id": "23b6fedd"
      },
      "source": [
        "#### Data Loaders!"
      ]
    },
    {
      "cell_type": "code",
      "execution_count": 17,
      "id": "99134e75",
      "metadata": {
        "colab": {
          "base_uri": "https://localhost:8080/"
        },
        "id": "99134e75",
        "outputId": "c0cd0c28-af97-47c9-c4f8-dec763cef404"
      },
      "outputs": [
        {
          "output_type": "stream",
          "name": "stdout",
          "text": [
            "No. of batches in trainloader:50\n",
            "No. of Total examples:1584\n",
            "No. of batches in validationloader:25\n",
            "No. of Total examples:792\n",
            "No. of batches in testloader:9\n",
            "No. of Total examples:264\n"
          ]
        }
      ],
      "source": [
        "trainloader = DataLoader(train_data, batch_size=32, shuffle=True)\n",
        "print(\"No. of batches in trainloader:{}\".format(len(trainloader)))\n",
        "print(\"No. of Total examples:{}\".format(len(trainloader.dataset)))\n",
        "\n",
        "validationloader = DataLoader(val_data, batch_size=32, shuffle=True)\n",
        "print(\"No. of batches in validationloader:{}\".format(len(validationloader)))\n",
        "print(\"No. of Total examples:{}\".format(len(validationloader.dataset)))\n",
        "\n",
        "testloader = DataLoader(test_data ,batch_size=32, shuffle=False)\n",
        "print(\"No. of batches in testloader:{}\".format(len(testloader)))\n",
        "print(\"No. of Total examples:{}\".format(len(testloader.dataset)))"
      ]
    },
    {
      "cell_type": "markdown",
      "id": "b6ea7c27",
      "metadata": {
        "id": "b6ea7c27"
      },
      "source": [
        "#### Model"
      ]
    },
    {
      "cell_type": "code",
      "execution_count": 18,
      "id": "c60aacc9",
      "metadata": {
        "id": "c60aacc9"
      },
      "outputs": [],
      "source": [
        "import torch\n",
        "import torch.nn as nn\n",
        "import torch.nn.functional as F\n",
        "import torch.optim as optim\n",
        "from torchvision import models\n",
        "import torchvision.transforms as transforms"
      ]
    },
    {
      "cell_type": "code",
      "execution_count": 19,
      "id": "1dfdcbb8",
      "metadata": {
        "colab": {
          "base_uri": "https://localhost:8080/"
        },
        "id": "1dfdcbb8",
        "outputId": "b86c7e1a-9eec-4cb5-a647-15271f07eaa2"
      },
      "outputs": [
        {
          "output_type": "stream",
          "name": "stderr",
          "text": [
            "/usr/local/lib/python3.10/dist-packages/torchvision/models/_utils.py:208: UserWarning: The parameter 'pretrained' is deprecated since 0.13 and may be removed in the future, please use 'weights' instead.\n",
            "  warnings.warn(\n",
            "/usr/local/lib/python3.10/dist-packages/torchvision/models/_utils.py:223: UserWarning: Arguments other than a weight enum or `None` for 'weights' are deprecated since 0.13 and may be removed in the future. The current behavior is equivalent to passing `weights=ResNet34_Weights.IMAGENET1K_V1`. You can also use `weights=ResNet34_Weights.DEFAULT` to get the most up-to-date weights.\n",
            "  warnings.warn(msg)\n",
            "Downloading: \"https://download.pytorch.org/models/resnet34-b627a593.pth\" to /root/.cache/torch/hub/checkpoints/resnet34-b627a593.pth\n",
            "100%|██████████| 83.3M/83.3M [00:00<00:00, 163MB/s]\n"
          ]
        }
      ],
      "source": [
        "model = models.resnet34(pretrained=True)"
      ]
    },
    {
      "cell_type": "code",
      "execution_count": 20,
      "id": "06a8d3ca",
      "metadata": {
        "id": "06a8d3ca"
      },
      "outputs": [],
      "source": [
        "model.fc = nn.Sequential(\n",
        "    nn.Dropout(0.1),\n",
        "    nn.Linear(model.fc.in_features, len(class_name))\n",
        ")\n",
        "model = model.to(device)\n",
        "\n",
        "criterion = torch.nn.CrossEntropyLoss()\n",
        "optimizer = torch.optim.SGD(model.parameters(), lr=1e-3, momentum=0.9)"
      ]
    },
    {
      "cell_type": "code",
      "execution_count": 21,
      "id": "ba6a6de3",
      "metadata": {
        "id": "ba6a6de3"
      },
      "outputs": [],
      "source": [
        "def train(model, criterion, optimizer, train_dataloader, test_dataloader):\n",
        "\n",
        "    total_train_loss = 0\n",
        "    total_test_loss = 0\n",
        "\n",
        "    model.train()\n",
        "    with tqdm(train_dataloader, unit='batch', leave=False) as pbar:\n",
        "        pbar.set_description(f'training')\n",
        "        for images, idxs in pbar:\n",
        "            images = images.to(device, non_blocking=True)\n",
        "            idxs = idxs.to(device, non_blocking=True)\n",
        "            output = model(images)\n",
        "\n",
        "            loss = criterion(output, idxs)\n",
        "            total_train_loss += loss.item()\n",
        "\n",
        "            loss.backward()\n",
        "            optimizer.step()\n",
        "            optimizer.zero_grad(set_to_none=True)\n",
        "\n",
        "    model.eval()\n",
        "    with tqdm(test_dataloader, unit='batch', leave=False) as pbar:\n",
        "        pbar.set_description(f'testing')\n",
        "        for images, idxs in pbar:\n",
        "            images = images.to(device, non_blocking=True)\n",
        "            idxs = idxs.to(device, non_blocking=True)\n",
        "\n",
        "            output = model(images)\n",
        "            loss = criterion(output, idxs)\n",
        "            total_test_loss += loss.item()\n",
        "\n",
        "    train_acc = total_train_loss / len(train_data)\n",
        "    test_acc = total_test_loss / len(val_data)\n",
        "    print(f'Train loss: {train_acc:.4f} Test loss: {test_acc:.4f} ')\n"
      ]
    },
    {
      "cell_type": "code",
      "execution_count": 22,
      "id": "c414b1a8",
      "metadata": {
        "colab": {
          "base_uri": "https://localhost:8080/"
        },
        "id": "c414b1a8",
        "outputId": "7a77357b-3270-45e2-d92d-592d4b34dc2d"
      },
      "outputs": [
        {
          "output_type": "stream",
          "name": "stdout",
          "text": [
            "Epoch 1/5\n"
          ]
        },
        {
          "output_type": "stream",
          "name": "stderr",
          "text": []
        },
        {
          "output_type": "stream",
          "name": "stdout",
          "text": [
            "Train loss: 0.0078 Test loss: 0.0080 \n",
            "Epoch 2/5\n"
          ]
        },
        {
          "output_type": "stream",
          "name": "stderr",
          "text": []
        },
        {
          "output_type": "stream",
          "name": "stdout",
          "text": [
            "Train loss: 0.0003 Test loss: 0.0002 \n",
            "Epoch 3/5\n"
          ]
        },
        {
          "output_type": "stream",
          "name": "stderr",
          "text": []
        },
        {
          "output_type": "stream",
          "name": "stdout",
          "text": [
            "Train loss: 0.0005 Test loss: 0.0001 \n",
            "Epoch 4/5\n"
          ]
        },
        {
          "output_type": "stream",
          "name": "stderr",
          "text": []
        },
        {
          "output_type": "stream",
          "name": "stdout",
          "text": [
            "Train loss: 0.0004 Test loss: 0.0011 \n",
            "Epoch 5/5\n"
          ]
        },
        {
          "output_type": "stream",
          "name": "stderr",
          "text": [
            "                                                           "
          ]
        },
        {
          "output_type": "stream",
          "name": "stdout",
          "text": [
            "Train loss: 0.0003 Test loss: 0.0015 \n",
            "CPU times: user 1min 35s, sys: 3.73 s, total: 1min 38s\n",
            "Wall time: 10min 15s\n"
          ]
        },
        {
          "output_type": "stream",
          "name": "stderr",
          "text": [
            "\r"
          ]
        }
      ],
      "source": [
        "%%time\n",
        "epochs=5\n",
        "for i in range(epochs):\n",
        "    print(f\"Epoch {i+1}/{epochs}\")\n",
        "    train(model, criterion, optimizer, trainloader, validationloader)"
      ]
    },
    {
      "cell_type": "markdown",
      "id": "ff9b048d",
      "metadata": {
        "id": "ff9b048d"
      },
      "source": [
        "#### Model saving"
      ]
    },
    {
      "cell_type": "code",
      "execution_count": 25,
      "id": "c4e6cf2d",
      "metadata": {
        "id": "c4e6cf2d"
      },
      "outputs": [],
      "source": [
        "Path = r'/content/drive/MyDrive/model.pt'\n",
        "torch.save(model, Path)"
      ]
    },
    {
      "cell_type": "code",
      "execution_count": 26,
      "id": "b297715e",
      "metadata": {
        "colab": {
          "base_uri": "https://localhost:8080/",
          "height": 35
        },
        "id": "b297715e",
        "outputId": "744c8ae0-ea8f-45dd-cffb-aeea292944e3"
      },
      "outputs": [
        {
          "output_type": "execute_result",
          "data": {
            "text/plain": [
              "'/content'"
            ],
            "application/vnd.google.colaboratory.intrinsic+json": {
              "type": "string"
            }
          },
          "metadata": {},
          "execution_count": 26
        }
      ],
      "source": [
        "pwd"
      ]
    },
    {
      "cell_type": "markdown",
      "id": "605578c0",
      "metadata": {
        "id": "605578c0"
      },
      "source": [
        "#### Loading torch model"
      ]
    },
    {
      "cell_type": "code",
      "execution_count": 27,
      "id": "1909e710",
      "metadata": {
        "colab": {
          "base_uri": "https://localhost:8080/"
        },
        "id": "1909e710",
        "outputId": "6ccd7db1-102a-464d-a416-54bcdb246d68"
      },
      "outputs": [
        {
          "output_type": "execute_result",
          "data": {
            "text/plain": [
              "ResNet(\n",
              "  (conv1): Conv2d(3, 64, kernel_size=(7, 7), stride=(2, 2), padding=(3, 3), bias=False)\n",
              "  (bn1): BatchNorm2d(64, eps=1e-05, momentum=0.1, affine=True, track_running_stats=True)\n",
              "  (relu): ReLU(inplace=True)\n",
              "  (maxpool): MaxPool2d(kernel_size=3, stride=2, padding=1, dilation=1, ceil_mode=False)\n",
              "  (layer1): Sequential(\n",
              "    (0): BasicBlock(\n",
              "      (conv1): Conv2d(64, 64, kernel_size=(3, 3), stride=(1, 1), padding=(1, 1), bias=False)\n",
              "      (bn1): BatchNorm2d(64, eps=1e-05, momentum=0.1, affine=True, track_running_stats=True)\n",
              "      (relu): ReLU(inplace=True)\n",
              "      (conv2): Conv2d(64, 64, kernel_size=(3, 3), stride=(1, 1), padding=(1, 1), bias=False)\n",
              "      (bn2): BatchNorm2d(64, eps=1e-05, momentum=0.1, affine=True, track_running_stats=True)\n",
              "    )\n",
              "    (1): BasicBlock(\n",
              "      (conv1): Conv2d(64, 64, kernel_size=(3, 3), stride=(1, 1), padding=(1, 1), bias=False)\n",
              "      (bn1): BatchNorm2d(64, eps=1e-05, momentum=0.1, affine=True, track_running_stats=True)\n",
              "      (relu): ReLU(inplace=True)\n",
              "      (conv2): Conv2d(64, 64, kernel_size=(3, 3), stride=(1, 1), padding=(1, 1), bias=False)\n",
              "      (bn2): BatchNorm2d(64, eps=1e-05, momentum=0.1, affine=True, track_running_stats=True)\n",
              "    )\n",
              "    (2): BasicBlock(\n",
              "      (conv1): Conv2d(64, 64, kernel_size=(3, 3), stride=(1, 1), padding=(1, 1), bias=False)\n",
              "      (bn1): BatchNorm2d(64, eps=1e-05, momentum=0.1, affine=True, track_running_stats=True)\n",
              "      (relu): ReLU(inplace=True)\n",
              "      (conv2): Conv2d(64, 64, kernel_size=(3, 3), stride=(1, 1), padding=(1, 1), bias=False)\n",
              "      (bn2): BatchNorm2d(64, eps=1e-05, momentum=0.1, affine=True, track_running_stats=True)\n",
              "    )\n",
              "  )\n",
              "  (layer2): Sequential(\n",
              "    (0): BasicBlock(\n",
              "      (conv1): Conv2d(64, 128, kernel_size=(3, 3), stride=(2, 2), padding=(1, 1), bias=False)\n",
              "      (bn1): BatchNorm2d(128, eps=1e-05, momentum=0.1, affine=True, track_running_stats=True)\n",
              "      (relu): ReLU(inplace=True)\n",
              "      (conv2): Conv2d(128, 128, kernel_size=(3, 3), stride=(1, 1), padding=(1, 1), bias=False)\n",
              "      (bn2): BatchNorm2d(128, eps=1e-05, momentum=0.1, affine=True, track_running_stats=True)\n",
              "      (downsample): Sequential(\n",
              "        (0): Conv2d(64, 128, kernel_size=(1, 1), stride=(2, 2), bias=False)\n",
              "        (1): BatchNorm2d(128, eps=1e-05, momentum=0.1, affine=True, track_running_stats=True)\n",
              "      )\n",
              "    )\n",
              "    (1): BasicBlock(\n",
              "      (conv1): Conv2d(128, 128, kernel_size=(3, 3), stride=(1, 1), padding=(1, 1), bias=False)\n",
              "      (bn1): BatchNorm2d(128, eps=1e-05, momentum=0.1, affine=True, track_running_stats=True)\n",
              "      (relu): ReLU(inplace=True)\n",
              "      (conv2): Conv2d(128, 128, kernel_size=(3, 3), stride=(1, 1), padding=(1, 1), bias=False)\n",
              "      (bn2): BatchNorm2d(128, eps=1e-05, momentum=0.1, affine=True, track_running_stats=True)\n",
              "    )\n",
              "    (2): BasicBlock(\n",
              "      (conv1): Conv2d(128, 128, kernel_size=(3, 3), stride=(1, 1), padding=(1, 1), bias=False)\n",
              "      (bn1): BatchNorm2d(128, eps=1e-05, momentum=0.1, affine=True, track_running_stats=True)\n",
              "      (relu): ReLU(inplace=True)\n",
              "      (conv2): Conv2d(128, 128, kernel_size=(3, 3), stride=(1, 1), padding=(1, 1), bias=False)\n",
              "      (bn2): BatchNorm2d(128, eps=1e-05, momentum=0.1, affine=True, track_running_stats=True)\n",
              "    )\n",
              "    (3): BasicBlock(\n",
              "      (conv1): Conv2d(128, 128, kernel_size=(3, 3), stride=(1, 1), padding=(1, 1), bias=False)\n",
              "      (bn1): BatchNorm2d(128, eps=1e-05, momentum=0.1, affine=True, track_running_stats=True)\n",
              "      (relu): ReLU(inplace=True)\n",
              "      (conv2): Conv2d(128, 128, kernel_size=(3, 3), stride=(1, 1), padding=(1, 1), bias=False)\n",
              "      (bn2): BatchNorm2d(128, eps=1e-05, momentum=0.1, affine=True, track_running_stats=True)\n",
              "    )\n",
              "  )\n",
              "  (layer3): Sequential(\n",
              "    (0): BasicBlock(\n",
              "      (conv1): Conv2d(128, 256, kernel_size=(3, 3), stride=(2, 2), padding=(1, 1), bias=False)\n",
              "      (bn1): BatchNorm2d(256, eps=1e-05, momentum=0.1, affine=True, track_running_stats=True)\n",
              "      (relu): ReLU(inplace=True)\n",
              "      (conv2): Conv2d(256, 256, kernel_size=(3, 3), stride=(1, 1), padding=(1, 1), bias=False)\n",
              "      (bn2): BatchNorm2d(256, eps=1e-05, momentum=0.1, affine=True, track_running_stats=True)\n",
              "      (downsample): Sequential(\n",
              "        (0): Conv2d(128, 256, kernel_size=(1, 1), stride=(2, 2), bias=False)\n",
              "        (1): BatchNorm2d(256, eps=1e-05, momentum=0.1, affine=True, track_running_stats=True)\n",
              "      )\n",
              "    )\n",
              "    (1): BasicBlock(\n",
              "      (conv1): Conv2d(256, 256, kernel_size=(3, 3), stride=(1, 1), padding=(1, 1), bias=False)\n",
              "      (bn1): BatchNorm2d(256, eps=1e-05, momentum=0.1, affine=True, track_running_stats=True)\n",
              "      (relu): ReLU(inplace=True)\n",
              "      (conv2): Conv2d(256, 256, kernel_size=(3, 3), stride=(1, 1), padding=(1, 1), bias=False)\n",
              "      (bn2): BatchNorm2d(256, eps=1e-05, momentum=0.1, affine=True, track_running_stats=True)\n",
              "    )\n",
              "    (2): BasicBlock(\n",
              "      (conv1): Conv2d(256, 256, kernel_size=(3, 3), stride=(1, 1), padding=(1, 1), bias=False)\n",
              "      (bn1): BatchNorm2d(256, eps=1e-05, momentum=0.1, affine=True, track_running_stats=True)\n",
              "      (relu): ReLU(inplace=True)\n",
              "      (conv2): Conv2d(256, 256, kernel_size=(3, 3), stride=(1, 1), padding=(1, 1), bias=False)\n",
              "      (bn2): BatchNorm2d(256, eps=1e-05, momentum=0.1, affine=True, track_running_stats=True)\n",
              "    )\n",
              "    (3): BasicBlock(\n",
              "      (conv1): Conv2d(256, 256, kernel_size=(3, 3), stride=(1, 1), padding=(1, 1), bias=False)\n",
              "      (bn1): BatchNorm2d(256, eps=1e-05, momentum=0.1, affine=True, track_running_stats=True)\n",
              "      (relu): ReLU(inplace=True)\n",
              "      (conv2): Conv2d(256, 256, kernel_size=(3, 3), stride=(1, 1), padding=(1, 1), bias=False)\n",
              "      (bn2): BatchNorm2d(256, eps=1e-05, momentum=0.1, affine=True, track_running_stats=True)\n",
              "    )\n",
              "    (4): BasicBlock(\n",
              "      (conv1): Conv2d(256, 256, kernel_size=(3, 3), stride=(1, 1), padding=(1, 1), bias=False)\n",
              "      (bn1): BatchNorm2d(256, eps=1e-05, momentum=0.1, affine=True, track_running_stats=True)\n",
              "      (relu): ReLU(inplace=True)\n",
              "      (conv2): Conv2d(256, 256, kernel_size=(3, 3), stride=(1, 1), padding=(1, 1), bias=False)\n",
              "      (bn2): BatchNorm2d(256, eps=1e-05, momentum=0.1, affine=True, track_running_stats=True)\n",
              "    )\n",
              "    (5): BasicBlock(\n",
              "      (conv1): Conv2d(256, 256, kernel_size=(3, 3), stride=(1, 1), padding=(1, 1), bias=False)\n",
              "      (bn1): BatchNorm2d(256, eps=1e-05, momentum=0.1, affine=True, track_running_stats=True)\n",
              "      (relu): ReLU(inplace=True)\n",
              "      (conv2): Conv2d(256, 256, kernel_size=(3, 3), stride=(1, 1), padding=(1, 1), bias=False)\n",
              "      (bn2): BatchNorm2d(256, eps=1e-05, momentum=0.1, affine=True, track_running_stats=True)\n",
              "    )\n",
              "  )\n",
              "  (layer4): Sequential(\n",
              "    (0): BasicBlock(\n",
              "      (conv1): Conv2d(256, 512, kernel_size=(3, 3), stride=(2, 2), padding=(1, 1), bias=False)\n",
              "      (bn1): BatchNorm2d(512, eps=1e-05, momentum=0.1, affine=True, track_running_stats=True)\n",
              "      (relu): ReLU(inplace=True)\n",
              "      (conv2): Conv2d(512, 512, kernel_size=(3, 3), stride=(1, 1), padding=(1, 1), bias=False)\n",
              "      (bn2): BatchNorm2d(512, eps=1e-05, momentum=0.1, affine=True, track_running_stats=True)\n",
              "      (downsample): Sequential(\n",
              "        (0): Conv2d(256, 512, kernel_size=(1, 1), stride=(2, 2), bias=False)\n",
              "        (1): BatchNorm2d(512, eps=1e-05, momentum=0.1, affine=True, track_running_stats=True)\n",
              "      )\n",
              "    )\n",
              "    (1): BasicBlock(\n",
              "      (conv1): Conv2d(512, 512, kernel_size=(3, 3), stride=(1, 1), padding=(1, 1), bias=False)\n",
              "      (bn1): BatchNorm2d(512, eps=1e-05, momentum=0.1, affine=True, track_running_stats=True)\n",
              "      (relu): ReLU(inplace=True)\n",
              "      (conv2): Conv2d(512, 512, kernel_size=(3, 3), stride=(1, 1), padding=(1, 1), bias=False)\n",
              "      (bn2): BatchNorm2d(512, eps=1e-05, momentum=0.1, affine=True, track_running_stats=True)\n",
              "    )\n",
              "    (2): BasicBlock(\n",
              "      (conv1): Conv2d(512, 512, kernel_size=(3, 3), stride=(1, 1), padding=(1, 1), bias=False)\n",
              "      (bn1): BatchNorm2d(512, eps=1e-05, momentum=0.1, affine=True, track_running_stats=True)\n",
              "      (relu): ReLU(inplace=True)\n",
              "      (conv2): Conv2d(512, 512, kernel_size=(3, 3), stride=(1, 1), padding=(1, 1), bias=False)\n",
              "      (bn2): BatchNorm2d(512, eps=1e-05, momentum=0.1, affine=True, track_running_stats=True)\n",
              "    )\n",
              "  )\n",
              "  (avgpool): AdaptiveAvgPool2d(output_size=(1, 1))\n",
              "  (fc): Sequential(\n",
              "    (0): Dropout(p=0.1, inplace=False)\n",
              "    (1): Linear(in_features=512, out_features=2, bias=True)\n",
              "  )\n",
              ")"
            ]
          },
          "metadata": {},
          "execution_count": 27
        }
      ],
      "source": [
        "# Model class must be defined somewhere\n",
        "model = torch.load(Path)\n",
        "model.eval()"
      ]
    },
    {
      "cell_type": "markdown",
      "id": "4d2d6c54",
      "metadata": {
        "id": "4d2d6c54"
      },
      "source": [
        "#### Model Evaluation"
      ]
    },
    {
      "cell_type": "code",
      "execution_count": 28,
      "id": "3b650d3b",
      "metadata": {
        "id": "3b650d3b"
      },
      "outputs": [],
      "source": [
        "def evaluate(model, criterion, optimizer, test_dataloader):\n",
        "    total_test_loss = 0\n",
        "\n",
        "    model.eval()\n",
        "    with tqdm(test_dataloader, unit='batch', leave=False) as pbar:\n",
        "        pbar.set_description(f'testing')\n",
        "        for images, idxs in pbar:\n",
        "            images = images.to(device, non_blocking=True)\n",
        "            idxs = idxs.to(device, non_blocking=True)\n",
        "\n",
        "            output = model(images)\n",
        "            loss = criterion(output, idxs)\n",
        "            total_test_loss += loss.item()\n",
        "\n",
        "    test_acc = total_test_loss / len(val_data)\n",
        "    print(f'Test loss: {test_acc:.4f} ')"
      ]
    },
    {
      "cell_type": "code",
      "execution_count": 29,
      "id": "1d04e478",
      "metadata": {
        "colab": {
          "base_uri": "https://localhost:8080/"
        },
        "id": "1d04e478",
        "outputId": "3f3c8a95-edd1-48f7-ccec-80a74a2064d6"
      },
      "outputs": [
        {
          "output_type": "stream",
          "name": "stderr",
          "text": [
            "                                                         "
          ]
        },
        {
          "output_type": "stream",
          "name": "stdout",
          "text": [
            "Test loss: 0.0004 \n"
          ]
        },
        {
          "output_type": "stream",
          "name": "stderr",
          "text": [
            "\r"
          ]
        }
      ],
      "source": [
        "evaluate(model, criterion, optimizer, testloader)"
      ]
    },
    {
      "cell_type": "markdown",
      "id": "77d845aa",
      "metadata": {
        "id": "77d845aa"
      },
      "source": [
        "#### Prediction"
      ]
    },
    {
      "cell_type": "code",
      "execution_count": 30,
      "id": "12fba662",
      "metadata": {
        "colab": {
          "base_uri": "https://localhost:8080/"
        },
        "id": "12fba662",
        "outputId": "a21e73b6-478e-4074-c086-e71dfc14fb97"
      },
      "outputs": [
        {
          "output_type": "execute_result",
          "data": {
            "text/plain": [
              "['Forged', 'Original']"
            ]
          },
          "metadata": {},
          "execution_count": 30
        }
      ],
      "source": [
        "label_names = data.classes\n",
        "label_names"
      ]
    },
    {
      "cell_type": "code",
      "execution_count": 31,
      "id": "f335102c",
      "metadata": {
        "colab": {
          "base_uri": "https://localhost:8080/"
        },
        "id": "f335102c",
        "outputId": "be030213-842e-40b5-8fd4-bbee3e3e1c10"
      },
      "outputs": [
        {
          "output_type": "stream",
          "name": "stdout",
          "text": [
            "Predicted label: 1\n",
            "Predicted class name: Original\n"
          ]
        }
      ],
      "source": [
        "from PIL import Image\n",
        "\n",
        "# Load the image and preprocess it\n",
        "image = Image.open(r'/content/drive/MyDrive/data/Original/original_10_1.png')\n",
        "preprocess = transforms.Compose([\n",
        "    transforms.Resize(size = (224,224)),\n",
        "    transforms.Grayscale(3),\n",
        "    transforms.ToTensor()\n",
        "])\n",
        "\n",
        "image = preprocess(image)\n",
        "image  = image[:3]\n",
        "\n",
        "# Convert the image to a PyTorch tensor and send it to the device\n",
        "image = image.unsqueeze(0).to(device)\n",
        "\n",
        "# Make the prediction\n",
        "with torch.no_grad():\n",
        "    logits = model(image)\n",
        "    probs = torch.softmax(logits, dim=1)\n",
        "    pred_label = torch.argmax(probs, dim=1)\n",
        "\n",
        "# Print the prediction\n",
        "print(f'Predicted label: {pred_label.item()}')\n",
        "\n",
        "# Map the predicted label to the corresponding class name\n",
        "predicted_class_name = label_names[pred_label.item()]\n",
        "\n",
        "# Print the predicted class name\n",
        "print(f'Predicted class name: {predicted_class_name}')"
      ]
    },
    {
      "cell_type": "code",
      "execution_count": null,
      "id": "b2a2b60f",
      "metadata": {
        "id": "b2a2b60f"
      },
      "outputs": [],
      "source": []
    },
    {
      "cell_type": "code",
      "execution_count": null,
      "id": "c5dd9d38",
      "metadata": {
        "id": "c5dd9d38"
      },
      "outputs": [],
      "source": []
    },
    {
      "cell_type": "code",
      "execution_count": null,
      "id": "4a50753f",
      "metadata": {
        "id": "4a50753f"
      },
      "outputs": [],
      "source": []
    },
    {
      "cell_type": "code",
      "execution_count": null,
      "id": "7ac657fa",
      "metadata": {
        "id": "7ac657fa"
      },
      "outputs": [],
      "source": []
    },
    {
      "cell_type": "code",
      "execution_count": null,
      "id": "ac8a10b7",
      "metadata": {
        "id": "ac8a10b7"
      },
      "outputs": [],
      "source": []
    }
  ],
  "metadata": {
    "kernelspec": {
      "display_name": "Python 3",
      "name": "python3"
    },
    "language_info": {
      "codemirror_mode": {
        "name": "ipython",
        "version": 3
      },
      "file_extension": ".py",
      "mimetype": "text/x-python",
      "name": "python",
      "nbconvert_exporter": "python",
      "pygments_lexer": "ipython3",
      "version": "3.8.15"
    },
    "colab": {
      "provenance": [],
      "gpuType": "T4"
    },
    "accelerator": "GPU"
  },
  "nbformat": 4,
  "nbformat_minor": 5
}